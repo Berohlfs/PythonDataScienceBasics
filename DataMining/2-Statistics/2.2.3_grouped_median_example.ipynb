{
 "cells": [
  {
   "cell_type": "code",
   "execution_count": 1,
   "id": "d152c4bd",
   "metadata": {
    "ExecuteTime": {
     "end_time": "2024-01-17T12:55:52.370940Z",
     "start_time": "2024-01-17T12:55:52.357675Z"
    },
    "slideshow": {
     "slide_type": "subslide"
    }
   },
   "outputs": [
    {
     "data": {
      "text/html": [
       "<div>\n",
       "<style scoped>\n",
       "    .dataframe tbody tr th:only-of-type {\n",
       "        vertical-align: middle;\n",
       "    }\n",
       "\n",
       "    .dataframe tbody tr th {\n",
       "        vertical-align: top;\n",
       "    }\n",
       "\n",
       "    .dataframe thead th {\n",
       "        text-align: right;\n",
       "    }\n",
       "</style>\n",
       "<table border=\"1\" class=\"dataframe\">\n",
       "  <thead>\n",
       "    <tr style=\"text-align: right;\">\n",
       "      <th></th>\n",
       "      <th>age</th>\n",
       "      <th>freq</th>\n",
       "    </tr>\n",
       "  </thead>\n",
       "  <tbody>\n",
       "    <tr>\n",
       "      <th>0</th>\n",
       "      <td>1-5</td>\n",
       "      <td>200</td>\n",
       "    </tr>\n",
       "    <tr>\n",
       "      <th>1</th>\n",
       "      <td>6-15</td>\n",
       "      <td>450</td>\n",
       "    </tr>\n",
       "    <tr>\n",
       "      <th>2</th>\n",
       "      <td>16-20</td>\n",
       "      <td>300</td>\n",
       "    </tr>\n",
       "    <tr>\n",
       "      <th>3</th>\n",
       "      <td>21-50</td>\n",
       "      <td>1500</td>\n",
       "    </tr>\n",
       "    <tr>\n",
       "      <th>4</th>\n",
       "      <td>51-80</td>\n",
       "      <td>700</td>\n",
       "    </tr>\n",
       "  </tbody>\n",
       "</table>\n",
       "</div>"
      ],
      "text/plain": [
       "     age  freq\n",
       "0    1-5   200\n",
       "1   6-15   450\n",
       "2  16-20   300\n",
       "3  21-50  1500\n",
       "4  51-80   700"
      ]
     },
     "execution_count": 1,
     "metadata": {},
     "output_type": "execute_result"
    }
   ],
   "source": [
    "import pandas as pd\n",
    "\n",
    "d = {'age': ['1-5', '6-15', '16-20', '21-50', '51-80', '81-110'],\n",
    "     'freq':[200,450,300,1500,700,44]}\n",
    "df = pd.DataFrame(data = d)\n",
    "df.head()"
   ]
  },
  {
   "attachments": {},
   "cell_type": "markdown",
   "id": "75b3e108",
   "metadata": {
    "slideshow": {
     "slide_type": "subslide"
    }
   },
   "source": [
    "## Equation for calculating median for grouped data"
   ]
  },
  {
   "cell_type": "code",
   "execution_count": 6,
   "id": "aa219c06",
   "metadata": {
    "ExecuteTime": {
     "end_time": "2024-01-17T12:57:07.523322Z",
     "start_time": "2024-01-17T12:57:07.515724Z"
    },
    "slideshow": {
     "slide_type": "subslide"
    }
   },
   "outputs": [
    {
     "data": {
      "text/html": [
       "<div>\n",
       "<style scoped>\n",
       "    .dataframe tbody tr th:only-of-type {\n",
       "        vertical-align: middle;\n",
       "    }\n",
       "\n",
       "    .dataframe tbody tr th {\n",
       "        vertical-align: top;\n",
       "    }\n",
       "\n",
       "    .dataframe thead th {\n",
       "        text-align: right;\n",
       "    }\n",
       "</style>\n",
       "<table border=\"1\" class=\"dataframe\">\n",
       "  <thead>\n",
       "    <tr style=\"text-align: right;\">\n",
       "      <th></th>\n",
       "      <th>age</th>\n",
       "      <th>freq</th>\n",
       "      <th>cumul_sum</th>\n",
       "    </tr>\n",
       "  </thead>\n",
       "  <tbody>\n",
       "    <tr>\n",
       "      <th>0</th>\n",
       "      <td>1-5</td>\n",
       "      <td>200</td>\n",
       "      <td>200</td>\n",
       "    </tr>\n",
       "    <tr>\n",
       "      <th>1</th>\n",
       "      <td>6-15</td>\n",
       "      <td>450</td>\n",
       "      <td>650</td>\n",
       "    </tr>\n",
       "    <tr>\n",
       "      <th>2</th>\n",
       "      <td>16-20</td>\n",
       "      <td>300</td>\n",
       "      <td>950</td>\n",
       "    </tr>\n",
       "    <tr>\n",
       "      <th>3</th>\n",
       "      <td>21-50</td>\n",
       "      <td>1500</td>\n",
       "      <td>2450</td>\n",
       "    </tr>\n",
       "    <tr>\n",
       "      <th>4</th>\n",
       "      <td>51-80</td>\n",
       "      <td>700</td>\n",
       "      <td>3150</td>\n",
       "    </tr>\n",
       "    <tr>\n",
       "      <th>5</th>\n",
       "      <td>81-110</td>\n",
       "      <td>44</td>\n",
       "      <td>3194</td>\n",
       "    </tr>\n",
       "  </tbody>\n",
       "</table>\n",
       "</div>"
      ],
      "text/plain": [
       "      age  freq  cumul_sum\n",
       "0     1-5   200        200\n",
       "1    6-15   450        650\n",
       "2   16-20   300        950\n",
       "3   21-50  1500       2450\n",
       "4   51-80   700       3150\n",
       "5  81-110    44       3194"
      ]
     },
     "execution_count": 6,
     "metadata": {},
     "output_type": "execute_result"
    }
   ],
   "source": [
    "df['cumul_sum'] = df['freq'].cumsum()\n",
    "df"
   ]
  },
  {
   "cell_type": "code",
   "execution_count": 7,
   "id": "f355f7baf72f0c49",
   "metadata": {
    "ExecuteTime": {
     "end_time": "2024-01-17T12:57:59.417599Z",
     "start_time": "2024-01-17T12:57:59.405400Z"
    },
    "collapsed": false,
    "jupyter": {
     "outputs_hidden": false
    }
   },
   "outputs": [
    {
     "data": {
      "text/plain": [
       "1597.0"
      ]
     },
     "execution_count": 7,
     "metadata": {},
     "output_type": "execute_result"
    }
   ],
   "source": [
    "3194/2"
   ]
  },
  {
   "cell_type": "code",
   "execution_count": 4,
   "id": "4cb1ba98",
   "metadata": {
    "ExecuteTime": {
     "end_time": "2024-01-17T12:56:00.274322Z",
     "start_time": "2024-01-17T12:56:00.269079Z"
    },
    "slideshow": {
     "slide_type": "fragment"
    }
   },
   "outputs": [],
   "source": [
    "L1 = 21\n",
    "width = 50 - L1\n",
    "freq_median = 1500\n",
    "n = df.freq.sum()\n",
    "sum_before_median_interval = 950"
   ]
  },
  {
   "cell_type": "code",
   "execution_count": 5,
   "id": "5ade2c76",
   "metadata": {
    "ExecuteTime": {
     "end_time": "2024-01-17T12:56:01.595479Z",
     "start_time": "2024-01-17T12:56:01.590387Z"
    },
    "slideshow": {
     "slide_type": "subslide"
    }
   },
   "outputs": [
    {
     "data": {
      "text/plain": [
       "33.50866666666667"
      ]
     },
     "execution_count": 5,
     "metadata": {},
     "output_type": "execute_result"
    }
   ],
   "source": [
    "median = L1 + ((n/2 - sum_before_median_interval)/freq_median) * width\n",
    "median"
   ]
  },
  {
   "cell_type": "markdown",
   "id": "8b8c222a",
   "metadata": {
    "slideshow": {
     "slide_type": "skip"
    }
   },
   "source": [
    "**Another Example**\n",
    "\n",
    "Let's create an example with 100 dogs sorted into 5 classes based on their sizes in pounds. We'll find the median size using the interpolation formula.\n",
    "Suppose the dogs are grouped into the following classes:\n",
    "\n",
    "* Class 1: 1 to 10 pounds (10 dogs)\n",
    "* Class 2: 11 to 20 pounds (20 dogs)\n",
    "* Class 3: 21 to 30 pounds (30 dogs)\n",
    "* Class 4: 31 to 40 pounds (25 dogs)\n",
    "* Class 5: 41 to 50 pounds (15 dogs)\n",
    "\n",
    "**We want to find the median size, which is the size of the 50th dog (since there are 100 dogs in total).**\n",
    "Here's how we'll use the formula:\n",
    "Total Number of Dogs (n): 100 dogs.\n",
    "    Low Interval Limit (L): The 50th dog falls into Class 3, so the low interval limit is 21 (the starting number of Class 3).\n",
    "Cumulative Frequency Before the Median Class (F): This is the total number of dogs in the classes before Class 3, which is 10 + 20 = 30.\n",
    "Frequency of the Median Class (f): This is the number of dogs in Class 3, which is 30.\n",
    "Class Width (c): This is the difference between the numbers on two neighboring classes. In this case, it's 10.\n",
    "Now we plug these numbers into the formula:\n",
    "Median=21+(100/2−30)/30×10\n",
    "Median=27.67\n",
    "So the median size is approximately 27.67 pounds, which means the middle dog's size is somewhere between the 27th and 28th pounds in Class 3."
   ]
  },
  {
   "cell_type": "code",
   "execution_count": null,
   "id": "cca419d8-356b-40ff-a1e8-b9cf5d425191",
   "metadata": {},
   "outputs": [],
   "source": []
  }
 ],
 "metadata": {
  "celltoolbar": "Slideshow",
  "kernelspec": {
   "display_name": "Python 3 (ipykernel)",
   "language": "python",
   "name": "python3"
  },
  "language_info": {
   "codemirror_mode": {
    "name": "ipython",
    "version": 3
   },
   "file_extension": ".py",
   "mimetype": "text/x-python",
   "name": "python",
   "nbconvert_exporter": "python",
   "pygments_lexer": "ipython3",
   "version": "3.12.4"
  }
 },
 "nbformat": 4,
 "nbformat_minor": 5
}
