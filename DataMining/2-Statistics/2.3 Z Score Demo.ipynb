{
 "cells": [
  {
   "cell_type": "markdown",
   "metadata": {
    "id": "jFrhJ8yb8W4C"
   },
   "source": [
    "# Z-Score Demo: Why we need Z-Score to standardize data\n",
    "\n",
    "Here's a small dataset with 10 data points containing square footage and the number of bedrooms:\n",
    "\n",
    "| Square Footage | Number of Bedrooms |\n",
    "|----------------|--------------------|\n",
    "| 800            | 1                  |\n",
    "| 1000           | 2                  |\n",
    "| 1200           | 2                  |\n",
    "| 1500           | 3                  |\n",
    "| 1800           | 3                  |\n",
    "| 2000           | 4                  |\n",
    "| 2200           | 4                  |\n",
    "| 2500           | 4                  |\n",
    "| 2800           | 5                  |\n",
    "| 3000           | 5                  |\n"
   ]
  },
  {
   "cell_type": "code",
   "execution_count": 1,
   "metadata": {
    "ExecuteTime": {
     "end_time": "2024-01-22T14:10:06.560053Z",
     "start_time": "2024-01-22T14:10:06.546274Z"
    },
    "colab": {
     "base_uri": "https://localhost:8080/"
    },
    "executionInfo": {
     "elapsed": 441,
     "status": "ok",
     "timestamp": 1695655888903,
     "user": {
      "displayName": "Pranjal MUN",
      "userId": "10389244479630531793"
     },
     "user_tz": 150
    },
    "id": "XTh_0b3R7aoN",
    "outputId": "6c060323-bc88-49de-e035-a3caa64c22f0"
   },
   "outputs": [
    {
     "name": "stdout",
     "output_type": "stream",
     "text": [
      "   Square Footage  Number of Bedrooms\n",
      "0             800                   1\n",
      "1            1000                   2\n",
      "2            1200                   2\n",
      "3            1500                   3\n",
      "4            1800                   3\n",
      "5            2000                   4\n",
      "6            2200                   4\n",
      "7            2500                   4\n",
      "8            2800                   5\n",
      "9            3000                   5\n"
     ]
    }
   ],
   "source": [
    "import pandas as pd\n",
    "\n",
    "data = {\n",
    "    'Square Footage': [800, 1000, 1200, 1500, 1800, 2000, 2200, 2500, 2800, 3000],\n",
    "    'Number of Bedrooms': [1, 2, 2, 3, 3, 4, 4, 4, 5, 5]\n",
    "}\n",
    "\n",
    "df = pd.DataFrame(data)\n",
    "print(df)\n"
   ]
  },
  {
   "cell_type": "markdown",
   "metadata": {
    "id": "WURHMIGy8hLd"
   },
   "source": [
    "To add columns for the mean, standard deviation, and Z-score for each of the columns (`Square Footage` and `Number of Bedrooms`), we can use the following approach:\n",
    "\n",
    "1. Calculate the mean and standard deviation for each column.\n",
    "2. Calculate the Z-score for each data point in each column using the formula:\n",
    "\\[ Z = \\frac{X - \\text{mean}}{\\text{std. dev}} \\]"
   ]
  },
  {
   "cell_type": "code",
   "execution_count": 2,
   "metadata": {
    "ExecuteTime": {
     "end_time": "2024-01-22T14:10:25.424804Z",
     "start_time": "2024-01-22T14:10:25.409933Z"
    },
    "colab": {
     "base_uri": "https://localhost:8080/",
     "height": 363
    },
    "executionInfo": {
     "elapsed": 5,
     "status": "ok",
     "timestamp": 1695655888903,
     "user": {
      "displayName": "Pranjal MUN",
      "userId": "10389244479630531793"
     },
     "user_tz": 150
    },
    "id": "9v6zQIlD8ed3",
    "outputId": "49750cda-ab07-4076-c9af-33bf1cdfb8c4"
   },
   "outputs": [
    {
     "data": {
      "text/html": [
       "<div>\n",
       "<style scoped>\n",
       "    .dataframe tbody tr th:only-of-type {\n",
       "        vertical-align: middle;\n",
       "    }\n",
       "\n",
       "    .dataframe tbody tr th {\n",
       "        vertical-align: top;\n",
       "    }\n",
       "\n",
       "    .dataframe thead th {\n",
       "        text-align: right;\n",
       "    }\n",
       "</style>\n",
       "<table border=\"1\" class=\"dataframe\">\n",
       "  <thead>\n",
       "    <tr style=\"text-align: right;\">\n",
       "      <th></th>\n",
       "      <th>Square Footage</th>\n",
       "      <th>Number of Bedrooms</th>\n",
       "      <th>Mean_SqFt</th>\n",
       "      <th>StdDev_SqFt</th>\n",
       "      <th>Z_SqFt</th>\n",
       "      <th>Mean_Bedrooms</th>\n",
       "      <th>StdDev_Bedrooms</th>\n",
       "      <th>Z_Bedrooms</th>\n",
       "    </tr>\n",
       "  </thead>\n",
       "  <tbody>\n",
       "    <tr>\n",
       "      <th>0</th>\n",
       "      <td>800</td>\n",
       "      <td>1</td>\n",
       "      <td>1880.0</td>\n",
       "      <td>756.894239</td>\n",
       "      <td>-1.426884</td>\n",
       "      <td>3.3</td>\n",
       "      <td>1.337494</td>\n",
       "      <td>-1.719635</td>\n",
       "    </tr>\n",
       "    <tr>\n",
       "      <th>1</th>\n",
       "      <td>1000</td>\n",
       "      <td>2</td>\n",
       "      <td>1880.0</td>\n",
       "      <td>756.894239</td>\n",
       "      <td>-1.162646</td>\n",
       "      <td>3.3</td>\n",
       "      <td>1.337494</td>\n",
       "      <td>-0.971967</td>\n",
       "    </tr>\n",
       "    <tr>\n",
       "      <th>2</th>\n",
       "      <td>1200</td>\n",
       "      <td>2</td>\n",
       "      <td>1880.0</td>\n",
       "      <td>756.894239</td>\n",
       "      <td>-0.898408</td>\n",
       "      <td>3.3</td>\n",
       "      <td>1.337494</td>\n",
       "      <td>-0.971967</td>\n",
       "    </tr>\n",
       "    <tr>\n",
       "      <th>3</th>\n",
       "      <td>1500</td>\n",
       "      <td>3</td>\n",
       "      <td>1880.0</td>\n",
       "      <td>756.894239</td>\n",
       "      <td>-0.502052</td>\n",
       "      <td>3.3</td>\n",
       "      <td>1.337494</td>\n",
       "      <td>-0.224300</td>\n",
       "    </tr>\n",
       "    <tr>\n",
       "      <th>4</th>\n",
       "      <td>1800</td>\n",
       "      <td>3</td>\n",
       "      <td>1880.0</td>\n",
       "      <td>756.894239</td>\n",
       "      <td>-0.105695</td>\n",
       "      <td>3.3</td>\n",
       "      <td>1.337494</td>\n",
       "      <td>-0.224300</td>\n",
       "    </tr>\n",
       "    <tr>\n",
       "      <th>5</th>\n",
       "      <td>2000</td>\n",
       "      <td>4</td>\n",
       "      <td>1880.0</td>\n",
       "      <td>756.894239</td>\n",
       "      <td>0.158543</td>\n",
       "      <td>3.3</td>\n",
       "      <td>1.337494</td>\n",
       "      <td>0.523367</td>\n",
       "    </tr>\n",
       "    <tr>\n",
       "      <th>6</th>\n",
       "      <td>2200</td>\n",
       "      <td>4</td>\n",
       "      <td>1880.0</td>\n",
       "      <td>756.894239</td>\n",
       "      <td>0.422780</td>\n",
       "      <td>3.3</td>\n",
       "      <td>1.337494</td>\n",
       "      <td>0.523367</td>\n",
       "    </tr>\n",
       "    <tr>\n",
       "      <th>7</th>\n",
       "      <td>2500</td>\n",
       "      <td>4</td>\n",
       "      <td>1880.0</td>\n",
       "      <td>756.894239</td>\n",
       "      <td>0.819137</td>\n",
       "      <td>3.3</td>\n",
       "      <td>1.337494</td>\n",
       "      <td>0.523367</td>\n",
       "    </tr>\n",
       "    <tr>\n",
       "      <th>8</th>\n",
       "      <td>2800</td>\n",
       "      <td>5</td>\n",
       "      <td>1880.0</td>\n",
       "      <td>756.894239</td>\n",
       "      <td>1.215493</td>\n",
       "      <td>3.3</td>\n",
       "      <td>1.337494</td>\n",
       "      <td>1.271034</td>\n",
       "    </tr>\n",
       "    <tr>\n",
       "      <th>9</th>\n",
       "      <td>3000</td>\n",
       "      <td>5</td>\n",
       "      <td>1880.0</td>\n",
       "      <td>756.894239</td>\n",
       "      <td>1.479731</td>\n",
       "      <td>3.3</td>\n",
       "      <td>1.337494</td>\n",
       "      <td>1.271034</td>\n",
       "    </tr>\n",
       "  </tbody>\n",
       "</table>\n",
       "</div>"
      ],
      "text/plain": [
       "   Square Footage  Number of Bedrooms  Mean_SqFt  StdDev_SqFt    Z_SqFt  \\\n",
       "0             800                   1     1880.0   756.894239 -1.426884   \n",
       "1            1000                   2     1880.0   756.894239 -1.162646   \n",
       "2            1200                   2     1880.0   756.894239 -0.898408   \n",
       "3            1500                   3     1880.0   756.894239 -0.502052   \n",
       "4            1800                   3     1880.0   756.894239 -0.105695   \n",
       "5            2000                   4     1880.0   756.894239  0.158543   \n",
       "6            2200                   4     1880.0   756.894239  0.422780   \n",
       "7            2500                   4     1880.0   756.894239  0.819137   \n",
       "8            2800                   5     1880.0   756.894239  1.215493   \n",
       "9            3000                   5     1880.0   756.894239  1.479731   \n",
       "\n",
       "   Mean_Bedrooms  StdDev_Bedrooms  Z_Bedrooms  \n",
       "0            3.3         1.337494   -1.719635  \n",
       "1            3.3         1.337494   -0.971967  \n",
       "2            3.3         1.337494   -0.971967  \n",
       "3            3.3         1.337494   -0.224300  \n",
       "4            3.3         1.337494   -0.224300  \n",
       "5            3.3         1.337494    0.523367  \n",
       "6            3.3         1.337494    0.523367  \n",
       "7            3.3         1.337494    0.523367  \n",
       "8            3.3         1.337494    1.271034  \n",
       "9            3.3         1.337494    1.271034  "
      ]
     },
     "execution_count": 2,
     "metadata": {},
     "output_type": "execute_result"
    }
   ],
   "source": [
    "# Calculate mean, std. dev, and Z-score for Square Footage\n",
    "df['Mean_SqFt'] = df['Square Footage'].mean()\n",
    "df['StdDev_SqFt'] = df['Square Footage'].std()\n",
    "df['Z_SqFt'] = (df['Square Footage'] - df['Mean_SqFt']) / df['StdDev_SqFt']\n",
    "\n",
    "# Calculate mean, std. dev, and Z-score for Number of Bedrooms\n",
    "df['Mean_Bedrooms'] = df['Number of Bedrooms'].mean()\n",
    "df['StdDev_Bedrooms'] = df['Number of Bedrooms'].std()\n",
    "df['Z_Bedrooms'] = (df['Number of Bedrooms'] - df['Mean_Bedrooms']) / df['StdDev_Bedrooms']\n",
    "\n",
    "df"
   ]
  },
  {
   "cell_type": "markdown",
   "metadata": {
    "id": "abERwURm9B2J"
   },
   "source": [
    "When you run the above code, it will print the dataset with the added columns for mean, standard deviation, and Z-score for both `Square Footage` and `Number of Bedrooms`."
   ]
  },
  {
   "cell_type": "code",
   "execution_count": 3,
   "metadata": {
    "ExecuteTime": {
     "end_time": "2024-01-22T14:10:29.408854Z",
     "start_time": "2024-01-22T14:10:29.106327Z"
    },
    "colab": {
     "base_uri": "https://localhost:8080/",
     "height": 507
    },
    "executionInfo": {
     "elapsed": 1524,
     "status": "ok",
     "timestamp": 1695655908113,
     "user": {
      "displayName": "Pranjal MUN",
      "userId": "10389244479630531793"
     },
     "user_tz": 150
    },
    "id": "kUeydLfT8niu",
    "outputId": "319e076f-ea6c-47e9-9755-15a46d90b005"
   },
   "outputs": [
    {
     "data": {
      "image/png": "[encoded data removed]",
      "text/plain": [
       "<Figure size 1200x500 with 2 Axes>"
      ]
     },
     "metadata": {},
     "output_type": "display_data"
    }
   ],
   "source": [
    "import matplotlib.pyplot as plt\n",
    "\n",
    "# Plotting the original data\n",
    "plt.figure(figsize=(12, 5))\n",
    "\n",
    "plt.subplot(1, 2, 1)\n",
    "plt.scatter(df['Square Footage'], df['Number of Bedrooms'], color='blue')\n",
    "plt.title('Original Data')\n",
    "plt.xlabel('Square Footage')\n",
    "plt.ylabel('Number of Bedrooms')\n",
    "\n",
    "# Plotting the Z-scores\n",
    "plt.subplot(1, 2, 2)\n",
    "plt.scatter(df['Z_SqFt'], df['Z_Bedrooms'], color='red')\n",
    "plt.title('Z-Scores')\n",
    "plt.xlabel('Z-Score of Square Footage')\n",
    "plt.ylabel('Z-Score of Number of Bedrooms')\n",
    "\n",
    "plt.tight_layout()\n",
    "plt.show()"
   ]
  },
  {
   "cell_type": "code",
   "execution_count": null,
   "metadata": {
    "collapsed": false,
    "jupyter": {
     "outputs_hidden": false
    }
   },
   "outputs": [],
   "source": []
  }
 ],
 "metadata": {
  "colab": {
   "authorship_tag": "ABX9TyN0IxewqYEara3VuTE1Ih8/",
   "provenance": []
  },
  "kernelspec": {
   "display_name": "Python 3 (ipykernel)",
   "language": "python",
   "name": "python3"
  },
  "language_info": {
   "codemirror_mode": {
    "name": "ipython",
    "version": 3
   },
   "file_extension": ".py",
   "mimetype": "text/x-python",
   "name": "python",
   "nbconvert_exporter": "python",
   "pygments_lexer": "ipython3",
   "version": "3.12.4"
  }
 },
 "nbformat": 4,
 "nbformat_minor": 4
}
