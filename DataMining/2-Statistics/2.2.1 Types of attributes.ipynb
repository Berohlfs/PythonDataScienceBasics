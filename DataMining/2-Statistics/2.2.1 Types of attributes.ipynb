{
 "cells": [
  {
   "cell_type": "markdown",
   "id": "2b0e7b2c1e980104",
   "metadata": {
    "collapsed": false,
    "jupyter": {
     "outputs_hidden": false
    }
   },
   "source": [
    "Let's consider a dataset of students:\n",
    "\n",
    "1. **Nominal**: Major (e.g., Computer Science, Biology, English)\n",
    "2. **Binary**: Scholarship (Yes or No)\n",
    "3. **Ordinal**: Class Standing (Freshman, Sophomore, Junior, Senior)\n",
    "4. **Numeric**: Age\n",
    "5. **Interval-scaled**: GPA (on a 0.0 - 4.0 scale)\n",
    "6. **Ratio-scaled**: Hours of Study per Week\n",
    "7. **Discrete**: Number of Courses\n",
    "8. **Continuous**: Height in centimeters\n",
    "\n",
    "\n",
    "| Row | Major            | Scholarship | Class Standing | Age | GPA | Hours of Study per Week | Number of Courses | Height (cm) |\n",
    "|-----|------------------|-------------|----------------|-----|-----|-------------------------|-------------------|-------------|\n",
    "| 1   | Computer Science | True        | Freshman       | 19  | 3.5 | 15                      | 5                 | 170.5       |\n",
    "| 2   | Biology          | False       | Junior         | 21  | 3.7 | 20                      | 4                 | 165.2       |\n",
    "| 3   | English          | True        | Senior         | 22  | 3.9 | 25                      | 6                 | 180.3       |\n",
    "\n",
    "- **Major**: Nominal\n",
    "- **Scholarship**: Binary\n",
    "- **Class Standing**: Ordinal\n",
    "- **Age**: Numeric\n",
    "- **GPA**: Interval-scaled\n",
    "- **Hours of Study per Week**: Ratio-scaled\n",
    "- **Number of Courses**: Discrete\n",
    "- **Height (cm)**: Continuous"
   ]
  },
  {
   "cell_type": "code",
   "execution_count": 3,
   "id": "1075f1ebb067887b",
   "metadata": {
    "ExecuteTime": {
     "end_time": "2024-01-17T13:28:02.850812Z",
     "start_time": "2024-01-17T13:28:02.803648Z"
    },
    "collapsed": false,
    "jupyter": {
     "outputs_hidden": false
    }
   },
   "outputs": [
    {
     "data": {
      "text/html": [
       "<div>\n",
       "<style scoped>\n",
       "    .dataframe tbody tr th:only-of-type {\n",
       "        vertical-align: middle;\n",
       "    }\n",
       "\n",
       "    .dataframe tbody tr th {\n",
       "        vertical-align: top;\n",
       "    }\n",
       "\n",
       "    .dataframe thead th {\n",
       "        text-align: right;\n",
       "    }\n",
       "</style>\n",
       "<table border=\"1\" class=\"dataframe\">\n",
       "  <thead>\n",
       "    <tr style=\"text-align: right;\">\n",
       "      <th></th>\n",
       "      <th>Major</th>\n",
       "      <th>Scholarship</th>\n",
       "      <th>Class Standing</th>\n",
       "      <th>Age</th>\n",
       "      <th>GPA</th>\n",
       "      <th>Hours of Study per Week</th>\n",
       "      <th>Number of Courses</th>\n",
       "      <th>Height (cm)</th>\n",
       "    </tr>\n",
       "  </thead>\n",
       "  <tbody>\n",
       "    <tr>\n",
       "      <th>0</th>\n",
       "      <td>Computer Science</td>\n",
       "      <td>True</td>\n",
       "      <td>Freshman</td>\n",
       "      <td>19</td>\n",
       "      <td>3.5</td>\n",
       "      <td>15</td>\n",
       "      <td>5</td>\n",
       "      <td>170.5</td>\n",
       "    </tr>\n",
       "    <tr>\n",
       "      <th>1</th>\n",
       "      <td>Biology</td>\n",
       "      <td>False</td>\n",
       "      <td>Junior</td>\n",
       "      <td>21</td>\n",
       "      <td>3.7</td>\n",
       "      <td>20</td>\n",
       "      <td>4</td>\n",
       "      <td>165.2</td>\n",
       "    </tr>\n",
       "    <tr>\n",
       "      <th>2</th>\n",
       "      <td>English</td>\n",
       "      <td>True</td>\n",
       "      <td>Senior</td>\n",
       "      <td>22</td>\n",
       "      <td>3.9</td>\n",
       "      <td>25</td>\n",
       "      <td>6</td>\n",
       "      <td>180.3</td>\n",
       "    </tr>\n",
       "  </tbody>\n",
       "</table>\n",
       "</div>"
      ],
      "text/plain": [
       "              Major  Scholarship Class Standing  Age  GPA  \\\n",
       "0  Computer Science         True       Freshman   19  3.5   \n",
       "1           Biology        False         Junior   21  3.7   \n",
       "2           English         True         Senior   22  3.9   \n",
       "\n",
       "   Hours of Study per Week  Number of Courses  Height (cm)  \n",
       "0                       15                  5        170.5  \n",
       "1                       20                  4        165.2  \n",
       "2                       25                  6        180.3  "
      ]
     },
     "execution_count": 3,
     "metadata": {},
     "output_type": "execute_result"
    }
   ],
   "source": [
    "import pandas as pd\n",
    "\n",
    "# Creating a real-world example dataset with various types of data attributes\n",
    "data_real_world = {\n",
    "    \"Major\": [\"Computer Science\", \"Biology\", \"English\"],\n",
    "    \"Scholarship\": [True, False, True],\n",
    "    \"Class Standing\": [\"Freshman\", \"Junior\", \"Senior\"],\n",
    "    \"Age\": [19, 21, 22],\n",
    "    \"GPA\": [3.5, 3.7, 3.9],  # Interval-scaled\n",
    "    \"Hours of Study per Week\": [15, 20, 25],  # Ratio-scaled\n",
    "    \"Number of Courses\": [5, 4, 6],  # Discrete\n",
    "    \"Height (cm)\": [170.5, 165.2, 180.3]  # Continuous\n",
    "}\n",
    "\n",
    "df_real_world = pd.DataFrame(data_real_world)\n",
    "df_real_world.head()\n"
   ]
  },
  {
   "cell_type": "code",
   "execution_count": null,
   "id": "d5eef81b27bf8967",
   "metadata": {
    "collapsed": false,
    "jupyter": {
     "outputs_hidden": false
    }
   },
   "outputs": [],
   "source": []
  }
 ],
 "metadata": {
  "kernelspec": {
   "display_name": "Python 3 (ipykernel)",
   "language": "python",
   "name": "python3"
  },
  "language_info": {
   "codemirror_mode": {
    "name": "ipython",
    "version": 3
   },
   "file_extension": ".py",
   "mimetype": "text/x-python",
   "name": "python",
   "nbconvert_exporter": "python",
   "pygments_lexer": "ipython3",
   "version": "3.12.4"
  }
 },
 "nbformat": 4,
 "nbformat_minor": 5
}
