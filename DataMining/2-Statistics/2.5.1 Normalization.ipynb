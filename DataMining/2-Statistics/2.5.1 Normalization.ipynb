{
 "cells": [
  {
   "cell_type": "code",
   "execution_count": 1,
   "metadata": {
    "ExecuteTime": {
     "end_time": "2024-01-24T11:57:57.071167Z",
     "start_time": "2024-01-24T11:57:57.069370Z"
    },
    "executionInfo": {
     "elapsed": 361,
     "status": "ok",
     "timestamp": 1696352279294,
     "user": {
      "displayName": "Pranjal MUN",
      "userId": "10389244479630531793"
     },
     "user_tz": 150
    },
    "id": "bWbEbSHkfYNP"
   },
   "outputs": [],
   "source": [
    "# Importing necessary libraries\n",
    "import pandas as pd\n",
    "import numpy as np\n",
    "import matplotlib.pyplot as plt"
   ]
  },
  {
   "cell_type": "code",
   "execution_count": 2,
   "metadata": {
    "ExecuteTime": {
     "end_time": "2024-01-24T11:57:57.082036Z",
     "start_time": "2024-01-24T11:57:57.074302Z"
    },
    "colab": {
     "base_uri": "https://localhost:8080/",
     "height": 1000
    },
    "executionInfo": {
     "elapsed": 8,
     "status": "ok",
     "timestamp": 1696352279294,
     "user": {
      "displayName": "Pranjal MUN",
      "userId": "10389244479630531793"
     },
     "user_tz": 150
    },
    "id": "sQ5mdU2LfYfi",
    "outputId": "153fac17-eaa6-40fd-c123-a228bd4a6008"
   },
   "outputs": [
    {
     "data": {
      "text/html": [
       "<div>\n",
       "<style scoped>\n",
       "    .dataframe tbody tr th:only-of-type {\n",
       "        vertical-align: middle;\n",
       "    }\n",
       "\n",
       "    .dataframe tbody tr th {\n",
       "        vertical-align: top;\n",
       "    }\n",
       "\n",
       "    .dataframe thead th {\n",
       "        text-align: right;\n",
       "    }\n",
       "</style>\n",
       "<table border=\"1\" class=\"dataframe\">\n",
       "  <thead>\n",
       "    <tr style=\"text-align: right;\">\n",
       "      <th></th>\n",
       "      <th>Income</th>\n",
       "      <th>Age</th>\n",
       "      <th>Score</th>\n",
       "    </tr>\n",
       "  </thead>\n",
       "  <tbody>\n",
       "    <tr>\n",
       "      <th>0</th>\n",
       "      <td>88268</td>\n",
       "      <td>30</td>\n",
       "      <td>59</td>\n",
       "    </tr>\n",
       "    <tr>\n",
       "      <th>1</th>\n",
       "      <td>63567</td>\n",
       "      <td>38</td>\n",
       "      <td>66</td>\n",
       "    </tr>\n",
       "    <tr>\n",
       "      <th>2</th>\n",
       "      <td>62613</td>\n",
       "      <td>29</td>\n",
       "      <td>37</td>\n",
       "    </tr>\n",
       "    <tr>\n",
       "      <th>3</th>\n",
       "      <td>65891</td>\n",
       "      <td>22</td>\n",
       "      <td>11</td>\n",
       "    </tr>\n",
       "    <tr>\n",
       "      <th>4</th>\n",
       "      <td>41243</td>\n",
       "      <td>24</td>\n",
       "      <td>87</td>\n",
       "    </tr>\n",
       "    <tr>\n",
       "      <th>5</th>\n",
       "      <td>61993</td>\n",
       "      <td>22</td>\n",
       "      <td>44</td>\n",
       "    </tr>\n",
       "    <tr>\n",
       "      <th>6</th>\n",
       "      <td>75026</td>\n",
       "      <td>21</td>\n",
       "      <td>12</td>\n",
       "    </tr>\n",
       "    <tr>\n",
       "      <th>7</th>\n",
       "      <td>68600</td>\n",
       "      <td>30</td>\n",
       "      <td>3</td>\n",
       "    </tr>\n",
       "    <tr>\n",
       "      <th>8</th>\n",
       "      <td>59512</td>\n",
       "      <td>54</td>\n",
       "      <td>52</td>\n",
       "    </tr>\n",
       "    <tr>\n",
       "      <th>9</th>\n",
       "      <td>72620</td>\n",
       "      <td>58</td>\n",
       "      <td>81</td>\n",
       "    </tr>\n",
       "    <tr>\n",
       "      <th>10</th>\n",
       "      <td>37089</td>\n",
       "      <td>32</td>\n",
       "      <td>33</td>\n",
       "    </tr>\n",
       "    <tr>\n",
       "      <th>11</th>\n",
       "      <td>52230</td>\n",
       "      <td>33</td>\n",
       "      <td>55</td>\n",
       "    </tr>\n",
       "    <tr>\n",
       "      <th>12</th>\n",
       "      <td>38983</td>\n",
       "      <td>38</td>\n",
       "      <td>1</td>\n",
       "    </tr>\n",
       "    <tr>\n",
       "      <th>13</th>\n",
       "      <td>26921</td>\n",
       "      <td>53</td>\n",
       "      <td>39</td>\n",
       "    </tr>\n",
       "    <tr>\n",
       "      <th>14</th>\n",
       "      <td>58804</td>\n",
       "      <td>41</td>\n",
       "      <td>20</td>\n",
       "    </tr>\n",
       "    <tr>\n",
       "      <th>15</th>\n",
       "      <td>87699</td>\n",
       "      <td>33</td>\n",
       "      <td>47</td>\n",
       "    </tr>\n",
       "    <tr>\n",
       "      <th>16</th>\n",
       "      <td>90608</td>\n",
       "      <td>31</td>\n",
       "      <td>43</td>\n",
       "    </tr>\n",
       "    <tr>\n",
       "      <th>17</th>\n",
       "      <td>57619</td>\n",
       "      <td>39</td>\n",
       "      <td>57</td>\n",
       "    </tr>\n",
       "    <tr>\n",
       "      <th>18</th>\n",
       "      <td>27877</td>\n",
       "      <td>23</td>\n",
       "      <td>61</td>\n",
       "    </tr>\n",
       "    <tr>\n",
       "      <th>19</th>\n",
       "      <td>21871</td>\n",
       "      <td>59</td>\n",
       "      <td>78</td>\n",
       "    </tr>\n",
       "    <tr>\n",
       "      <th>20</th>\n",
       "      <td>93135</td>\n",
       "      <td>53</td>\n",
       "      <td>31</td>\n",
       "    </tr>\n",
       "    <tr>\n",
       "      <th>21</th>\n",
       "      <td>22496</td>\n",
       "      <td>18</td>\n",
       "      <td>25</td>\n",
       "    </tr>\n",
       "    <tr>\n",
       "      <th>22</th>\n",
       "      <td>67954</td>\n",
       "      <td>49</td>\n",
       "      <td>3</td>\n",
       "    </tr>\n",
       "    <tr>\n",
       "      <th>23</th>\n",
       "      <td>44675</td>\n",
       "      <td>23</td>\n",
       "      <td>4</td>\n",
       "    </tr>\n",
       "    <tr>\n",
       "      <th>24</th>\n",
       "      <td>51921</td>\n",
       "      <td>48</td>\n",
       "      <td>95</td>\n",
       "    </tr>\n",
       "    <tr>\n",
       "      <th>25</th>\n",
       "      <td>20797</td>\n",
       "      <td>18</td>\n",
       "      <td>99</td>\n",
       "    </tr>\n",
       "    <tr>\n",
       "      <th>26</th>\n",
       "      <td>69811</td>\n",
       "      <td>54</td>\n",
       "      <td>14</td>\n",
       "    </tr>\n",
       "    <tr>\n",
       "      <th>27</th>\n",
       "      <td>88755</td>\n",
       "      <td>52</td>\n",
       "      <td>41</td>\n",
       "    </tr>\n",
       "    <tr>\n",
       "      <th>28</th>\n",
       "      <td>72489</td>\n",
       "      <td>47</td>\n",
       "      <td>73</td>\n",
       "    </tr>\n",
       "    <tr>\n",
       "      <th>29</th>\n",
       "      <td>61504</td>\n",
       "      <td>21</td>\n",
       "      <td>20</td>\n",
       "    </tr>\n",
       "    <tr>\n",
       "      <th>30</th>\n",
       "      <td>69866</td>\n",
       "      <td>52</td>\n",
       "      <td>96</td>\n",
       "    </tr>\n",
       "    <tr>\n",
       "      <th>31</th>\n",
       "      <td>31723</td>\n",
       "      <td>31</td>\n",
       "      <td>73</td>\n",
       "    </tr>\n",
       "    <tr>\n",
       "      <th>32</th>\n",
       "      <td>63890</td>\n",
       "      <td>57</td>\n",
       "      <td>27</td>\n",
       "    </tr>\n",
       "    <tr>\n",
       "      <th>33</th>\n",
       "      <td>37591</td>\n",
       "      <td>39</td>\n",
       "      <td>67</td>\n",
       "    </tr>\n",
       "    <tr>\n",
       "      <th>34</th>\n",
       "      <td>78146</td>\n",
       "      <td>27</td>\n",
       "      <td>53</td>\n",
       "    </tr>\n",
       "    <tr>\n",
       "      <th>35</th>\n",
       "      <td>79300</td>\n",
       "      <td>18</td>\n",
       "      <td>68</td>\n",
       "    </tr>\n",
       "    <tr>\n",
       "      <th>36</th>\n",
       "      <td>91557</td>\n",
       "      <td>28</td>\n",
       "      <td>62</td>\n",
       "    </tr>\n",
       "    <tr>\n",
       "      <th>37</th>\n",
       "      <td>40006</td>\n",
       "      <td>41</td>\n",
       "      <td>15</td>\n",
       "    </tr>\n",
       "    <tr>\n",
       "      <th>38</th>\n",
       "      <td>23560</td>\n",
       "      <td>20</td>\n",
       "      <td>97</td>\n",
       "    </tr>\n",
       "    <tr>\n",
       "      <th>39</th>\n",
       "      <td>81713</td>\n",
       "      <td>52</td>\n",
       "      <td>5</td>\n",
       "    </tr>\n",
       "    <tr>\n",
       "      <th>40</th>\n",
       "      <td>65444</td>\n",
       "      <td>53</td>\n",
       "      <td>68</td>\n",
       "    </tr>\n",
       "    <tr>\n",
       "      <th>41</th>\n",
       "      <td>66522</td>\n",
       "      <td>48</td>\n",
       "      <td>12</td>\n",
       "    </tr>\n",
       "    <tr>\n",
       "      <th>42</th>\n",
       "      <td>40737</td>\n",
       "      <td>21</td>\n",
       "      <td>87</td>\n",
       "    </tr>\n",
       "    <tr>\n",
       "      <th>43</th>\n",
       "      <td>48647</td>\n",
       "      <td>36</td>\n",
       "      <td>78</td>\n",
       "    </tr>\n",
       "    <tr>\n",
       "      <th>44</th>\n",
       "      <td>81353</td>\n",
       "      <td>53</td>\n",
       "      <td>76</td>\n",
       "    </tr>\n",
       "    <tr>\n",
       "      <th>45</th>\n",
       "      <td>32134</td>\n",
       "      <td>38</td>\n",
       "      <td>57</td>\n",
       "    </tr>\n",
       "    <tr>\n",
       "      <th>46</th>\n",
       "      <td>80535</td>\n",
       "      <td>35</td>\n",
       "      <td>17</td>\n",
       "    </tr>\n",
       "    <tr>\n",
       "      <th>47</th>\n",
       "      <td>67883</td>\n",
       "      <td>45</td>\n",
       "      <td>25</td>\n",
       "    </tr>\n",
       "    <tr>\n",
       "      <th>48</th>\n",
       "      <td>83360</td>\n",
       "      <td>32</td>\n",
       "      <td>30</td>\n",
       "    </tr>\n",
       "    <tr>\n",
       "      <th>49</th>\n",
       "      <td>71811</td>\n",
       "      <td>59</td>\n",
       "      <td>22</td>\n",
       "    </tr>\n",
       "  </tbody>\n",
       "</table>\n",
       "</div>"
      ],
      "text/plain": [
       "    Income  Age  Score\n",
       "0    88268   30     59\n",
       "1    63567   38     66\n",
       "2    62613   29     37\n",
       "3    65891   22     11\n",
       "4    41243   24     87\n",
       "5    61993   22     44\n",
       "6    75026   21     12\n",
       "7    68600   30      3\n",
       "8    59512   54     52\n",
       "9    72620   58     81\n",
       "10   37089   32     33\n",
       "11   52230   33     55\n",
       "12   38983   38      1\n",
       "13   26921   53     39\n",
       "14   58804   41     20\n",
       "15   87699   33     47\n",
       "16   90608   31     43\n",
       "17   57619   39     57\n",
       "18   27877   23     61\n",
       "19   21871   59     78\n",
       "20   93135   53     31\n",
       "21   22496   18     25\n",
       "22   67954   49      3\n",
       "23   44675   23      4\n",
       "24   51921   48     95\n",
       "25   20797   18     99\n",
       "26   69811   54     14\n",
       "27   88755   52     41\n",
       "28   72489   47     73\n",
       "29   61504   21     20\n",
       "30   69866   52     96\n",
       "31   31723   31     73\n",
       "32   63890   57     27\n",
       "33   37591   39     67\n",
       "34   78146   27     53\n",
       "35   79300   18     68\n",
       "36   91557   28     62\n",
       "37   40006   41     15\n",
       "38   23560   20     97\n",
       "39   81713   52      5\n",
       "40   65444   53     68\n",
       "41   66522   48     12\n",
       "42   40737   21     87\n",
       "43   48647   36     78\n",
       "44   81353   53     76\n",
       "45   32134   38     57\n",
       "46   80535   35     17\n",
       "47   67883   45     25\n",
       "48   83360   32     30\n",
       "49   71811   59     22"
      ]
     },
     "execution_count": 2,
     "metadata": {},
     "output_type": "execute_result"
    }
   ],
   "source": [
    "# Seed for reproducibility\n",
    "np.random.seed(0)\n",
    "\n",
    "# Generating random data\n",
    "data = {\n",
    "    'Income': np.random.randint(20000, 100000, 50),\n",
    "    'Age': np.random.randint(18, 60, 50),\n",
    "    'Score': np.random.randint(1, 100, 50)\n",
    "}\n",
    "\n",
    "# Creating DataFrame\n",
    "df = pd.DataFrame(data)\n",
    "df"
   ]
  },
  {
   "cell_type": "code",
   "execution_count": 3,
   "metadata": {
    "ExecuteTime": {
     "end_time": "2024-01-24T11:58:11.945283Z",
     "start_time": "2024-01-24T11:58:11.941201Z"
    },
    "executionInfo": {
     "elapsed": 6,
     "status": "ok",
     "timestamp": 1696352279294,
     "user": {
      "displayName": "Pranjal MUN",
      "userId": "10389244479630531793"
     },
     "user_tz": 150
    },
    "id": "1PjyuC05eRIE"
   },
   "outputs": [],
   "source": [
    "# Defining normalization functions\n",
    "def min_max_normalization(series):\n",
    "    return (series - series.min()) / (series.max() - series.min())\n",
    "\n",
    "def z_score_normalization(series):\n",
    "    return (series - series.mean()) / series.std()\n",
    "\n",
    "def decimal_scaling_normalization(series):\n",
    "    j = np.ceil(np.log10(series.abs().max()))\n",
    "    return series / (10**j)"
   ]
  },
  {
   "cell_type": "code",
   "execution_count": 4,
   "metadata": {
    "ExecuteTime": {
     "end_time": "2024-01-24T11:58:13.355550Z",
     "start_time": "2024-01-24T11:58:13.351024Z"
    },
    "executionInfo": {
     "elapsed": 5,
     "status": "ok",
     "timestamp": 1696352279294,
     "user": {
      "displayName": "Pranjal MUN",
      "userId": "10389244479630531793"
     },
     "user_tz": 150
    },
    "id": "ZBmkmL4efqZW"
   },
   "outputs": [],
   "source": [
    "# Applying normalization\n",
    "normalized_df = df.copy()\n",
    "normalized_df['Income_min_max'] = min_max_normalization(df['Income'])\n",
    "normalized_df['Income_z_score'] = z_score_normalization(df['Income'])\n",
    "normalized_df['Income_decimal_scaling'] = decimal_scaling_normalization(df['Income'])\n"
   ]
  },
  {
   "cell_type": "code",
   "execution_count": 5,
   "metadata": {
    "ExecuteTime": {
     "end_time": "2024-01-24T11:58:15.883391Z",
     "start_time": "2024-01-24T11:58:15.330373Z"
    },
    "colab": {
     "base_uri": "https://localhost:8080/",
     "height": 1000
    },
    "executionInfo": {
     "elapsed": 1299,
     "status": "ok",
     "timestamp": 1696352280588,
     "user": {
      "displayName": "Pranjal MUN",
      "userId": "10389244479630531793"
     },
     "user_tz": 150
    },
    "id": "nWudEhgoftCW",
    "outputId": "62a83e74-1c06-44f0-9dfe-eee15623732a"
   },
   "outputs": [
    {
     "data": {
      "image/png": "[encoded data removed]",
      "text/plain": [
       "<Figure size 1000x1000 with 4 Axes>"
      ]
     },
     "metadata": {},
     "output_type": "display_data"
    }
   ],
   "source": [
    "# Plotting\n",
    "fig, axs = plt.subplots(2, 2, figsize=(10, 10))\n",
    "\n",
    "# Original Data\n",
    "axs[0, 0].hist(df['Income'], bins=10, color='blue', alpha=0.7, label='Original Data')\n",
    "axs[0, 0].set_title('Original Data')\n",
    "axs[0, 0].legend(loc='upper right')\n",
    "\n",
    "# Min-Max Normalization\n",
    "axs[0, 1].hist(normalized_df['Income_min_max'], bins=10, color='orange', alpha=0.7, label='Min-Max Normalization')\n",
    "axs[0, 1].set_title('Min-Max Normalization')\n",
    "axs[0, 1].legend(loc='upper right')\n",
    "\n",
    "# Z-Score Normalization\n",
    "axs[1, 0].hist(normalized_df['Income_z_score'], bins=10, color='green', alpha=0.7, label='Z-Score Normalization')\n",
    "axs[1, 0].set_title('Z-Score Normalization')\n",
    "axs[1, 0].legend(loc='upper right')\n",
    "\n",
    "# Decimal Scaling Normalization\n",
    "axs[1, 1].hist(normalized_df['Income_decimal_scaling'], bins=10, color='red', alpha=0.7, label='Decimal Scaling Normalization')\n",
    "axs[1, 1].set_title('Decimal Scaling Normalization')\n",
    "axs[1, 1].legend(loc='upper right')\n",
    "\n",
    "# Displaying plot\n",
    "plt.tight_layout()\n",
    "plt.show()"
   ]
  },
  {
   "cell_type": "markdown",
   "source": [
    "# DELETE BELOW"
   ],
   "metadata": {
    "collapsed": false
   }
  },
  {
   "cell_type": "code",
   "execution_count": 30,
   "outputs": [
    {
     "data": {
      "text/plain": "    age\n0    13\n1    15\n2    16\n3    16\n4    19\n5    20\n6    20\n7    21\n8    22\n9    22\n10   25\n11   25\n12   25\n13   25\n14   30\n15   33\n16   33\n17   35\n18   35\n19   35\n20   36\n21   40\n22   45\n23   52\n24   56\n25   60\n26   70",
      "text/html": "<div>\n<style scoped>\n    .dataframe tbody tr th:only-of-type {\n        vertical-align: middle;\n    }\n\n    .dataframe tbody tr th {\n        vertical-align: top;\n    }\n\n    .dataframe thead th {\n        text-align: right;\n    }\n</style>\n<table border=\"1\" class=\"dataframe\">\n  <thead>\n    <tr style=\"text-align: right;\">\n      <th></th>\n      <th>age</th>\n    </tr>\n  </thead>\n  <tbody>\n    <tr>\n      <th>0</th>\n      <td>13</td>\n    </tr>\n    <tr>\n      <th>1</th>\n      <td>15</td>\n    </tr>\n    <tr>\n      <th>2</th>\n      <td>16</td>\n    </tr>\n    <tr>\n      <th>3</th>\n      <td>16</td>\n    </tr>\n    <tr>\n      <th>4</th>\n      <td>19</td>\n    </tr>\n    <tr>\n      <th>5</th>\n      <td>20</td>\n    </tr>\n    <tr>\n      <th>6</th>\n      <td>20</td>\n    </tr>\n    <tr>\n      <th>7</th>\n      <td>21</td>\n    </tr>\n    <tr>\n      <th>8</th>\n      <td>22</td>\n    </tr>\n    <tr>\n      <th>9</th>\n      <td>22</td>\n    </tr>\n    <tr>\n      <th>10</th>\n      <td>25</td>\n    </tr>\n    <tr>\n      <th>11</th>\n      <td>25</td>\n    </tr>\n    <tr>\n      <th>12</th>\n      <td>25</td>\n    </tr>\n    <tr>\n      <th>13</th>\n      <td>25</td>\n    </tr>\n    <tr>\n      <th>14</th>\n      <td>30</td>\n    </tr>\n    <tr>\n      <th>15</th>\n      <td>33</td>\n    </tr>\n    <tr>\n      <th>16</th>\n      <td>33</td>\n    </tr>\n    <tr>\n      <th>17</th>\n      <td>35</td>\n    </tr>\n    <tr>\n      <th>18</th>\n      <td>35</td>\n    </tr>\n    <tr>\n      <th>19</th>\n      <td>35</td>\n    </tr>\n    <tr>\n      <th>20</th>\n      <td>36</td>\n    </tr>\n    <tr>\n      <th>21</th>\n      <td>40</td>\n    </tr>\n    <tr>\n      <th>22</th>\n      <td>45</td>\n    </tr>\n    <tr>\n      <th>23</th>\n      <td>52</td>\n    </tr>\n    <tr>\n      <th>24</th>\n      <td>56</td>\n    </tr>\n    <tr>\n      <th>25</th>\n      <td>60</td>\n    </tr>\n    <tr>\n      <th>26</th>\n      <td>70</td>\n    </tr>\n  </tbody>\n</table>\n</div>"
     },
     "execution_count": 30,
     "metadata": {},
     "output_type": "execute_result"
    }
   ],
   "source": [
    "# turn into a dataframe\n",
    "ages = [13, 15, 16, 16, 19, 20, 20, 21, 22, 22, 25, 25, 25, 25, 30, 33, 33, 35, 35, 35, 36, 40, 45, 46, 52, 56, 60, 70]\n",
    "ages_df = pd.DataFrame(ages, columns=['age'])\n",
    "ages_df"
   ],
   "metadata": {
    "collapsed": false,
    "ExecuteTime": {
     "end_time": "2024-01-26T17:10:24.468992Z",
     "start_time": "2024-01-26T17:10:24.455428Z"
    }
   }
  },
  {
   "cell_type": "code",
   "execution_count": 31,
   "outputs": [
    {
     "data": {
      "text/plain": "31.25925925925926"
     },
     "execution_count": 31,
     "metadata": {},
     "output_type": "execute_result"
    }
   ],
   "source": [
    "# a. What is the mean of the data? What is the median? What is the mode?\n",
    "\n",
    "# mean\n",
    "ages_df['age'].mean()"
   ],
   "metadata": {
    "collapsed": false,
    "ExecuteTime": {
     "end_time": "2024-01-26T17:10:24.630885Z",
     "start_time": "2024-01-26T17:10:24.628826Z"
    }
   }
  },
  {
   "cell_type": "code",
   "execution_count": 32,
   "outputs": [
    {
     "data": {
      "text/plain": "25.0"
     },
     "execution_count": 32,
     "metadata": {},
     "output_type": "execute_result"
    }
   ],
   "source": [
    "# median\n",
    "ages_df['age'].median()"
   ],
   "metadata": {
    "collapsed": false,
    "ExecuteTime": {
     "end_time": "2024-01-26T17:10:24.851162Z",
     "start_time": "2024-01-26T17:10:24.848850Z"
    }
   }
  },
  {
   "cell_type": "code",
   "execution_count": 33,
   "outputs": [
    {
     "data": {
      "text/plain": "0    25\nName: age, dtype: int64"
     },
     "execution_count": 33,
     "metadata": {},
     "output_type": "execute_result"
    }
   ],
   "source": [
    "# mode\n",
    "ages_df['age'].mode()"
   ],
   "metadata": {
    "collapsed": false,
    "ExecuteTime": {
     "end_time": "2024-01-26T17:10:25.049748Z",
     "start_time": "2024-01-26T17:10:25.047848Z"
    }
   }
  },
  {
   "cell_type": "code",
   "execution_count": 34,
   "outputs": [
    {
     "data": {
      "text/plain": "array([[<Axes: title={'center': 'age'}>]], dtype=object)"
     },
     "execution_count": 34,
     "metadata": {},
     "output_type": "execute_result"
    },
    {
     "data": {
      "text/plain": "<Figure size 640x480 with 1 Axes>",
      "image/png": "[encoded data removed]"
     },
     "metadata": {},
     "output_type": "display_data"
    }
   ],
   "source": [
    "# check distribution\n",
    "ages_df.hist()"
   ],
   "metadata": {
    "collapsed": false,
    "ExecuteTime": {
     "end_time": "2024-01-26T17:10:27.325739Z",
     "start_time": "2024-01-26T17:10:27.229493Z"
    }
   }
  },
  {
   "cell_type": "code",
   "execution_count": 24,
   "outputs": [],
   "source": [],
   "metadata": {
    "collapsed": false,
    "ExecuteTime": {
     "end_time": "2024-01-26T17:09:52.680320Z",
     "start_time": "2024-01-26T17:09:52.673350Z"
    }
   }
  },
  {
   "cell_type": "code",
   "execution_count": null,
   "outputs": [],
   "source": [],
   "metadata": {
    "collapsed": false
   }
  }
 ],
 "metadata": {
  "colab": {
   "authorship_tag": "ABX9TyNJXz49hOwE6FM5n1G/iay+",
   "provenance": []
  },
  "kernelspec": {
   "display_name": "Python 3 (ipykernel)",
   "language": "python",
   "name": "python3"
  },
  "language_info": {
   "codemirror_mode": {
    "name": "ipython",
    "version": 3
   },
   "file_extension": ".py",
   "mimetype": "text/x-python",
   "name": "python",
   "nbconvert_exporter": "python",
   "pygments_lexer": "ipython3",
   "version": "3.11.5"
  }
 },
 "nbformat": 4,
 "nbformat_minor": 4
}
